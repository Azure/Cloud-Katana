{
 "cells": [
  {
   "cell_type": "markdown",
   "id": "66e7ddeb",
   "metadata": {},
   "source": [
    "# Grant-CKPermissions"
   ]
  },
  {
   "cell_type": "markdown",
   "id": "3a073f14",
   "metadata": {},
   "source": [
    "## Metadata"
   ]
  },
  {
   "cell_type": "markdown",
   "id": "7eb25500",
   "metadata": {},
   "source": [
    "\n",
    "|                   |    |\n",
    "|:------------------|:---|\n",
    "| platform          | Azure |\n",
    "| contributors      | Roberto Rodriguez @Cyb3rWard0g,MSTIC R&D |\n",
    "| creation date     | 2021-08-05 |\n",
    "| modification date | 2021-08-09 |\n",
    "| Tactics           | [TA0003](https://attack.mitre.org/tactics/TA0003) |\n",
    "| Techniques        | [T1098](https://attack.mitre.org/techniques/T1098) |"
   ]
  },
  {
   "cell_type": "markdown",
   "id": "ac8b81c9",
   "metadata": {},
   "source": [
    "## Description\n",
    "A threat actor might want to grant permissions (Delegated or Application) to an Azure AD application (Service Principal).\n"
   ]
  },
  {
   "cell_type": "markdown",
   "id": "6ccd8590",
   "metadata": {},
   "source": [
    "## Run Simulation"
   ]
  },
  {
   "cell_type": "markdown",
   "id": "577df815",
   "metadata": {},
   "source": [
    "### Get OAuth Access Token"
   ]
  },
  {
   "cell_type": "code",
   "execution_count": null,
   "id": "cdb7cb0e",
   "metadata": {},
   "outputs": [],
   "source": [
    "from msal import PublicClientApplication\n",
    "import requests\n",
    "import time\n",
    "\n",
    "public_client_app_id = \"KATANA_CLIENT_APP_ID\"\n",
    "tenant_id = \"TENANT_ID\"\n",
    "function_app_url = \"https://FUNCTION_APP_NAME.azurewebsites.net\"\n",
    "scope = function_app_url + \"/user_impersonation\"\n",
    "\n",
    "app = PublicClientApplication(\n",
    "    public_client_app_id,\n",
    "    authority=\"https://login.microsoftonline.com/\" + tenant_id\n",
    ")\n",
    "result = app.acquire_token_interactive(scopes=[scope])\n",
    "bearer_token = result['access_token']"
   ]
  },
  {
   "cell_type": "markdown",
   "id": "625a37e1",
   "metadata": {},
   "source": [
    "### Set Azure Function Orchestrator"
   ]
  },
  {
   "cell_type": "code",
   "execution_count": null,
   "id": "e9bfdd21",
   "metadata": {},
   "outputs": [],
   "source": [
    "endpoint = function_app_url + \"/api/orchestrators/Orchestrator\""
   ]
  },
  {
   "cell_type": "markdown",
   "id": "d77bb18d",
   "metadata": {},
   "source": [
    "### Prepare HTTP Body"
   ]
  },
  {
   "cell_type": "code",
   "execution_count": null,
   "id": "890f5fd2",
   "metadata": {},
   "outputs": [],
   "source": [
    "data = [{'activityFunction': 'Azure', 'type': 'action', 'action': 'Grant-CKPermissions', 'parameters': {'spObjectId': 'ENTER-VALUE', 'resourceName': 'ENTER-VALUE', 'permissionType': 'ENTER-VALUE', 'permissions': ['ENTER-VALUE']}}]"
   ]
  },
  {
   "cell_type": "markdown",
   "id": "c2c71749",
   "metadata": {},
   "source": [
    "### Send HTTP Request"
   ]
  },
  {
   "cell_type": "code",
   "execution_count": null,
   "id": "a4b6e230",
   "metadata": {},
   "outputs": [],
   "source": [
    "http_headers = {'Authorization': 'Bearer ' + bearer_token, 'Accept': 'application/json','Content-Type': 'application/json'}\n",
    "results = requests.get(endpoint, json=data, headers=http_headers, stream=False).json()\n",
    "\n",
    "time.sleep(5)"
   ]
  },
  {
   "cell_type": "markdown",
   "id": "e8849180",
   "metadata": {},
   "source": [
    "### Explore Output"
   ]
  },
  {
   "cell_type": "code",
   "execution_count": null,
   "id": "8c5033f6",
   "metadata": {},
   "outputs": [],
   "source": [
    "query_status = requests.get(results['statusQueryGetUri'], headers=http_headers, stream=False).json()\n",
    "query_results = query_status['output']\n",
    "query_results"
   ]
  }
 ],
 "metadata": {},
 "nbformat": 4,
 "nbformat_minor": 5
}
