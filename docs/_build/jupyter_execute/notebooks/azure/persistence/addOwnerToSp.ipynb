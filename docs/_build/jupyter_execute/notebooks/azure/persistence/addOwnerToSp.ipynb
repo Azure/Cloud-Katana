{
 "cells": [
  {
   "cell_type": "markdown",
   "id": "d38f41bf",
   "metadata": {},
   "source": [
    "# addOwnerToSp"
   ]
  },
  {
   "cell_type": "markdown",
   "id": "472c0efd",
   "metadata": {},
   "source": [
    "## Metadata"
   ]
  },
  {
   "cell_type": "markdown",
   "id": "3b794d88",
   "metadata": {},
   "source": [
    "\n",
    "|                   |    |\n",
    "|:------------------|:---|\n",
    "| platform          | Azure |\n",
    "| contributors      | Roberto Rodriguez @Cyb3rWard0g,MSTIC R&D |\n",
    "| creation date     | 2021-08-05 |\n",
    "| modification date | 2021-08-05 |\n",
    "| Tactics           | [TA0003](https://attack.mitre.org/tactics/TA0003) |\n",
    "| Techniques        | [T1098.001](https://attack.mitre.org/techniques/T1098/001) |"
   ]
  },
  {
   "cell_type": "markdown",
   "id": "b7f06b55",
   "metadata": {},
   "source": [
    "## Description\n",
    "A threat actor might want to add an owner to a service principal.\n"
   ]
  },
  {
   "cell_type": "markdown",
   "id": "f5ec1193",
   "metadata": {},
   "source": [
    "## Run Simulation"
   ]
  },
  {
   "cell_type": "markdown",
   "id": "74cb29d1",
   "metadata": {},
   "source": [
    "### Get OAuth Access Token"
   ]
  },
  {
   "cell_type": "code",
   "execution_count": null,
   "id": "7f16547b",
   "metadata": {},
   "outputs": [],
   "source": [
    "from msal import PublicClientApplication\n",
    "import requests\n",
    "import time\n",
    "\n",
    "public_client_app_id = \"KATANA_CLIENT_APP_ID\"\n",
    "tenant_id = \"TENANT_ID\"\n",
    "function_app_url = \"https://FUNCTION_APP_NAME.azurewebsites.net\"\n",
    "scope = function_app_url + \"/user_impersonation\"\n",
    "\n",
    "app = PublicClientApplication(\n",
    "    public_client_app_id,\n",
    "    authority=\"https://login.microsoftonline.com/\" + tenant_id\n",
    ")\n",
    "result = app.acquire_token_interactive(scopes=[scope])\n",
    "bearer_token = result['access_token']"
   ]
  },
  {
   "cell_type": "markdown",
   "id": "95d32cc9",
   "metadata": {},
   "source": [
    "### Set Azure Function Orchestrator"
   ]
  },
  {
   "cell_type": "code",
   "execution_count": null,
   "id": "768d4897",
   "metadata": {},
   "outputs": [],
   "source": [
    "endpoint = function_app_url + \"/api/orchestrators/Orchestrator\""
   ]
  },
  {
   "cell_type": "markdown",
   "id": "1b107378",
   "metadata": {},
   "source": [
    "### Prepare HTTP Body"
   ]
  },
  {
   "cell_type": "code",
   "execution_count": null,
   "id": "8b48ec9a",
   "metadata": {},
   "outputs": [],
   "source": [
    "data = [{'Tactic': 'persistence', 'Procedure': 'addOwnerToSp', 'parameters': {'svcPrincipalId': 'ENTER-VALUE', 'directoryObjectId': 'ENTER-VALUE'}}]"
   ]
  },
  {
   "cell_type": "markdown",
   "id": "c29a9249",
   "metadata": {},
   "source": [
    "### Send HTTP Request"
   ]
  },
  {
   "cell_type": "code",
   "execution_count": null,
   "id": "5b825707",
   "metadata": {},
   "outputs": [],
   "source": [
    "http_headers = {'Authorization': 'Bearer ' + bearer_token, 'Accept': 'application/json','Content-Type': 'application/json'}\n",
    "results = requests.get(endpoint, json=data, headers=http_headers, stream=False).json()\n",
    "\n",
    "time.sleep(5)"
   ]
  },
  {
   "cell_type": "markdown",
   "id": "91593011",
   "metadata": {},
   "source": [
    "### Explore Output"
   ]
  },
  {
   "cell_type": "code",
   "execution_count": null,
   "id": "65570069",
   "metadata": {},
   "outputs": [],
   "source": [
    "query_status = requests.get(results['statusQueryGetUri'], headers=http_headers, stream=False).json()\n",
    "query_results = query_status['output']\n",
    "query_results"
   ]
  }
 ],
 "metadata": {},
 "nbformat": 4,
 "nbformat_minor": 5
}