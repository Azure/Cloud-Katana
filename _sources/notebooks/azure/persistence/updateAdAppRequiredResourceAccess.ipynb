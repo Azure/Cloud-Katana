{
 "cells": [
  {
   "cell_type": "markdown",
   "id": "1e20438a",
   "metadata": {},
   "source": [
    "# updateAdAppRequiredResourceAccess"
   ]
  },
  {
   "cell_type": "markdown",
   "id": "d9aeb00a",
   "metadata": {},
   "source": [
    "## Metadata"
   ]
  },
  {
   "cell_type": "markdown",
   "id": "17718e58",
   "metadata": {},
   "source": [
    "\n",
    "|                   |    |\n",
    "|:------------------|:---|\n",
    "| platform          | Azure |\n",
    "| contributors      | Roberto Rodriguez @Cyb3rWard0g,MSTIC R&D |\n",
    "| creation date     | 2021-08-05 |\n",
    "| modification date | 2021-08-05 |\n",
    "| Tactics           | [TA0003](https://attack.mitre.org/tactics/TA0003) |\n",
    "| Techniques        | [T1098.002](https://attack.mitre.org/techniques/T1098/002) |"
   ]
  },
  {
   "cell_type": "markdown",
   "id": "4b6885b2",
   "metadata": {},
   "source": [
    "## Description\n",
    "A threat actor might want to update the required resource access property of an Azure AD application.\n",
    "The requiredResourceAccess property of an application specifies resources that the application requires access to and the set of OAuth permission scopes (delegated) and application roles (application) that it needs under each of those resources.\n",
    "This pre-configuration of required resource access drives the consent experience. This does not grant permissions consent.\n"
   ]
  },
  {
   "cell_type": "markdown",
   "id": "fb7fd9ed",
   "metadata": {},
   "source": [
    "## Run Simulation"
   ]
  },
  {
   "cell_type": "markdown",
   "id": "0ee54626",
   "metadata": {},
   "source": [
    "### Get OAuth Access Token"
   ]
  },
  {
   "cell_type": "code",
   "execution_count": null,
   "id": "c49fdace",
   "metadata": {},
   "outputs": [],
   "source": [
    "from msal import PublicClientApplication\n",
    "import requests\n",
    "import time\n",
    "\n",
    "public_client_app_id = \"KATANA_CLIENT_APP_ID\"\n",
    "tenant_id = \"TENANT_ID\"\n",
    "function_app_url = \"https://FUNCTION_APP_NAME.azurewebsites.net\"\n",
    "scope = function_app_url + \"/user_impersonation\"\n",
    "\n",
    "app = PublicClientApplication(\n",
    "    public_client_app_id,\n",
    "    authority=\"https://login.microsoftonline.com/\" + tenant_id\n",
    ")\n",
    "result = app.acquire_token_interactive(scopes=[scope])\n",
    "bearer_token = result['access_token']"
   ]
  },
  {
   "cell_type": "markdown",
   "id": "3aab8519",
   "metadata": {},
   "source": [
    "### Set Azure Function Orchestrator"
   ]
  },
  {
   "cell_type": "code",
   "execution_count": null,
   "id": "4fa4831e",
   "metadata": {},
   "outputs": [],
   "source": [
    "endpoint = function_app_url + \"/api/orchestrators/Orchestrator\""
   ]
  },
  {
   "cell_type": "markdown",
   "id": "d91fafd0",
   "metadata": {},
   "source": [
    "### Prepare HTTP Body"
   ]
  },
  {
   "cell_type": "code",
   "execution_count": null,
   "id": "91312e9e",
   "metadata": {},
   "outputs": [],
   "source": [
    "data = [{'Tactic': 'persistence', 'Procedure': 'updateAdAppRequiredResourceAccess', 'parameters': {'applicationId': 'ENTER-VALUE', 'resourceSpName': 'ENTER-VALUE', 'permissionType': 'ENTER-VALUE', 'permissions': ['ENTER-VALUE']}}]"
   ]
  },
  {
   "cell_type": "markdown",
   "id": "6d1f4fc1",
   "metadata": {},
   "source": [
    "### Send HTTP Request"
   ]
  },
  {
   "cell_type": "code",
   "execution_count": null,
   "id": "cd0b1c64",
   "metadata": {},
   "outputs": [],
   "source": [
    "http_headers = {'Authorization': 'Bearer ' + bearer_token, 'Accept': 'application/json','Content-Type': 'application/json'}\n",
    "results = requests.get(endpoint, json=data, headers=http_headers, stream=False).json()\n",
    "\n",
    "time.sleep(5)"
   ]
  },
  {
   "cell_type": "markdown",
   "id": "9640bde9",
   "metadata": {},
   "source": [
    "### Explore Output"
   ]
  },
  {
   "cell_type": "code",
   "execution_count": null,
   "id": "ea49502e",
   "metadata": {},
   "outputs": [],
   "source": [
    "query_status = requests.get(results['statusQueryGetUri'], headers=http_headers, stream=False).json()\n",
    "query_results = query_status['output']\n",
    "query_results"
   ]
  }
 ],
 "metadata": {},
 "nbformat": 4,
 "nbformat_minor": 5
}
