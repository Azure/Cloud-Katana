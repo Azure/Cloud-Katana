{
 "cells": [
  {
   "cell_type": "markdown",
   "id": "6d5e2403",
   "metadata": {},
   "source": [
    "# Add-CKAzADSPPassword"
   ]
  },
  {
   "cell_type": "markdown",
   "id": "82b78b10",
   "metadata": {},
   "source": [
    "## Metadata"
   ]
  },
  {
   "cell_type": "markdown",
   "id": "8b7090cd",
   "metadata": {},
   "source": [
    "\n",
    "|                   |    |\n",
    "|:------------------|:---|\n",
    "| platform          | Azure |\n",
    "| contributors      | Roberto Rodriguez @Cyb3rWard0g,MSTIC R&D |\n",
    "| creation date     | 2021-08-05 |\n",
    "| modification date | 2021-09-08 |\n",
    "| Tactics           | [TA0003](https://attack.mitre.org/tactics/TA0003) |\n",
    "| Techniques        | [T1098.001](https://attack.mitre.org/techniques/T1098/001) |"
   ]
  },
  {
   "cell_type": "markdown",
   "id": "5b93af75",
   "metadata": {},
   "source": [
    "## Description\n",
    "A threat actor might want to add a password to a service principal for persistence purposes.\n"
   ]
  },
  {
   "cell_type": "markdown",
   "id": "71046ac3",
   "metadata": {},
   "source": [
    "## Run Simulation"
   ]
  },
  {
   "cell_type": "markdown",
   "id": "0cd9a364",
   "metadata": {},
   "source": [
    "### Get OAuth Access Token"
   ]
  },
  {
   "cell_type": "code",
   "execution_count": null,
   "id": "2c582fe0",
   "metadata": {},
   "outputs": [],
   "source": [
    "from msal import PublicClientApplication\n",
    "import requests\n",
    "import time\n",
    "\n",
    "public_client_app_id = \"KATANA_CLIENT_APP_ID\"\n",
    "tenant_id = \"TENANT_ID\"\n",
    "function_app_url = \"https://FUNCTION_APP_NAME.azurewebsites.net\"\n",
    "scope = function_app_url + \"/user_impersonation\"\n",
    "\n",
    "app = PublicClientApplication(\n",
    "    public_client_app_id,\n",
    "    authority=\"https://login.microsoftonline.com/\" + tenant_id\n",
    ")\n",
    "result = app.acquire_token_interactive(scopes=[scope])\n",
    "bearer_token = result['access_token']"
   ]
  },
  {
   "cell_type": "markdown",
   "id": "7f46170d",
   "metadata": {},
   "source": [
    "### Set Azure Function Orchestrator"
   ]
  },
  {
   "cell_type": "code",
   "execution_count": null,
   "id": "f61291bd",
   "metadata": {},
   "outputs": [],
   "source": [
    "endpoint = function_app_url + \"/api/orchestrators/Orchestrator\""
   ]
  },
  {
   "cell_type": "markdown",
   "id": "9b75ffae",
   "metadata": {},
   "source": [
    "### Prepare HTTP Body"
   ]
  },
  {
   "cell_type": "code",
   "execution_count": null,
   "id": "3e598e6b",
   "metadata": {},
   "outputs": [],
   "source": [
    "data = [{'activityFunction': 'Azure', 'type': 'action', 'action': 'Add-CKAzADSPPassword', 'parameters': {'displayName': 'ENTER-VALUE', 'spObjectId': 'ENTER-VALUE'}}]"
   ]
  },
  {
   "cell_type": "markdown",
   "id": "f11ccf9d",
   "metadata": {},
   "source": [
    "### Send HTTP Request"
   ]
  },
  {
   "cell_type": "code",
   "execution_count": null,
   "id": "c313038f",
   "metadata": {},
   "outputs": [],
   "source": [
    "http_headers = {'Authorization': 'Bearer ' + bearer_token, 'Accept': 'application/json','Content-Type': 'application/json'}\n",
    "results = requests.get(endpoint, json=data, headers=http_headers, stream=False).json()\n",
    "\n",
    "time.sleep(5)"
   ]
  },
  {
   "cell_type": "markdown",
   "id": "ab214449",
   "metadata": {},
   "source": [
    "### Explore Output"
   ]
  },
  {
   "cell_type": "code",
   "execution_count": null,
   "id": "93cce8e2",
   "metadata": {},
   "outputs": [],
   "source": [
    "query_status = requests.get(results['statusQueryGetUri'], headers=http_headers, stream=False).json()\n",
    "query_results = query_status['output']\n",
    "query_results"
   ]
  }
 ],
 "metadata": {},
 "nbformat": 4,
 "nbformat_minor": 5
}
