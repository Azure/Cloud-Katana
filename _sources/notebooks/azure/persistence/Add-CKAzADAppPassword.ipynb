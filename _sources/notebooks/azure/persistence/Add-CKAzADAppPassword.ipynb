{
 "cells": [
  {
   "cell_type": "markdown",
   "id": "e776edd9",
   "metadata": {},
   "source": [
    "# Add-CKAzADAppPassword"
   ]
  },
  {
   "cell_type": "markdown",
   "id": "d6b5d97c",
   "metadata": {},
   "source": [
    "## Metadata"
   ]
  },
  {
   "cell_type": "markdown",
   "id": "83751466",
   "metadata": {},
   "source": [
    "\n",
    "|                   |    |\n",
    "|:------------------|:---|\n",
    "| platform          | Azure |\n",
    "| contributors      | Roberto Rodriguez @Cyb3rWard0g,MSTIC R&D |\n",
    "| creation date     | 2021-08-05 |\n",
    "| modification date | 2021-09-08 |\n",
    "| Tactics           | [TA0003](https://attack.mitre.org/tactics/TA0003) |\n",
    "| Techniques        | [T1098.001](https://attack.mitre.org/techniques/T1098/001) |"
   ]
  },
  {
   "cell_type": "markdown",
   "id": "d351b7c1",
   "metadata": {},
   "source": [
    "## Description\n",
    "A threat actor might want to add a password to an Azure AD application for persistence purposes.\n"
   ]
  },
  {
   "cell_type": "markdown",
   "id": "85b33c31",
   "metadata": {},
   "source": [
    "## Run Simulation"
   ]
  },
  {
   "cell_type": "markdown",
   "id": "1d65adf8",
   "metadata": {},
   "source": [
    "### Get OAuth Access Token"
   ]
  },
  {
   "cell_type": "code",
   "execution_count": null,
   "id": "a3330cef",
   "metadata": {},
   "outputs": [],
   "source": [
    "from msal import PublicClientApplication\n",
    "import requests\n",
    "import time\n",
    "\n",
    "public_client_app_id = \"KATANA_CLIENT_APP_ID\"\n",
    "tenant_id = \"TENANT_ID\"\n",
    "function_app_url = \"https://FUNCTION_APP_NAME.azurewebsites.net\"\n",
    "scope = function_app_url + \"/user_impersonation\"\n",
    "\n",
    "app = PublicClientApplication(\n",
    "    public_client_app_id,\n",
    "    authority=\"https://login.microsoftonline.com/\" + tenant_id\n",
    ")\n",
    "result = app.acquire_token_interactive(scopes=[scope])\n",
    "bearer_token = result['access_token']"
   ]
  },
  {
   "cell_type": "markdown",
   "id": "520307b9",
   "metadata": {},
   "source": [
    "### Set Azure Function Orchestrator"
   ]
  },
  {
   "cell_type": "code",
   "execution_count": null,
   "id": "d4947161",
   "metadata": {},
   "outputs": [],
   "source": [
    "endpoint = function_app_url + \"/api/orchestrators/Orchestrator\""
   ]
  },
  {
   "cell_type": "markdown",
   "id": "ab3fa15c",
   "metadata": {},
   "source": [
    "### Prepare HTTP Body"
   ]
  },
  {
   "cell_type": "code",
   "execution_count": null,
   "id": "13b100ee",
   "metadata": {},
   "outputs": [],
   "source": [
    "data = [{'activityFunction': 'Azure', 'type': 'action', 'action': 'Add-CKAzADAppPassword', 'parameters': {'displayName': 'ENTER-VALUE', 'appObjectId': 'ENTER-VALUE'}}]"
   ]
  },
  {
   "cell_type": "markdown",
   "id": "b1d9fc8c",
   "metadata": {},
   "source": [
    "### Send HTTP Request"
   ]
  },
  {
   "cell_type": "code",
   "execution_count": null,
   "id": "9daaefb8",
   "metadata": {},
   "outputs": [],
   "source": [
    "http_headers = {'Authorization': 'Bearer ' + bearer_token, 'Accept': 'application/json','Content-Type': 'application/json'}\n",
    "results = requests.get(endpoint, json=data, headers=http_headers, stream=False).json()\n",
    "\n",
    "time.sleep(5)"
   ]
  },
  {
   "cell_type": "markdown",
   "id": "48ad8756",
   "metadata": {},
   "source": [
    "### Explore Output"
   ]
  },
  {
   "cell_type": "code",
   "execution_count": null,
   "id": "6f6eeb32",
   "metadata": {},
   "outputs": [],
   "source": [
    "query_status = requests.get(results['statusQueryGetUri'], headers=http_headers, stream=False).json()\n",
    "query_results = query_status['output']\n",
    "query_results"
   ]
  }
 ],
 "metadata": {},
 "nbformat": 4,
 "nbformat_minor": 5
}
