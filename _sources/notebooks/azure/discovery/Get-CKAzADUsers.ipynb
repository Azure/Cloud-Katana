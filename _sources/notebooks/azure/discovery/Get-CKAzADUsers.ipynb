{
 "cells": [
  {
   "cell_type": "markdown",
   "id": "f5f3e213",
   "metadata": {},
   "source": [
    "# Get-CKAzADUsers"
   ]
  },
  {
   "cell_type": "markdown",
   "id": "6d899912",
   "metadata": {},
   "source": [
    "## Metadata"
   ]
  },
  {
   "cell_type": "markdown",
   "id": "a3e9df70",
   "metadata": {},
   "source": [
    "\n",
    "|                   |    |\n",
    "|:------------------|:---|\n",
    "| platform          | Azure |\n",
    "| contributors      | Roberto Rodriguez @Cyb3rWard0g,MSTIC R&D |\n",
    "| creation date     | 2021-08-05 |\n",
    "| modification date | 2021-09-08 |\n",
    "| Tactics           | [TA0007](https://attack.mitre.org/tactics/TA0007) |\n",
    "| Techniques        | [T1087.004](https://attack.mitre.org/techniques/T1087/004) |"
   ]
  },
  {
   "cell_type": "markdown",
   "id": "af2fc941",
   "metadata": {},
   "source": [
    "## Description\n",
    "A threat actor might want to list all users in Azure AD\n"
   ]
  },
  {
   "cell_type": "markdown",
   "id": "d204494f",
   "metadata": {},
   "source": [
    "## Run Simulation"
   ]
  },
  {
   "cell_type": "markdown",
   "id": "0cef6319",
   "metadata": {},
   "source": [
    "### Get OAuth Access Token"
   ]
  },
  {
   "cell_type": "code",
   "execution_count": null,
   "id": "4020588d",
   "metadata": {},
   "outputs": [],
   "source": [
    "from msal import PublicClientApplication\n",
    "import requests\n",
    "import time\n",
    "\n",
    "function_app_url = \"https://FUNCTION_APP_NAME.azurewebsites.net\"\n",
    "\n",
    "tenant_id = \"TENANT_ID\"\n",
    "public_client_app_id = \"KATANA_CLIENT_APP_ID\"\n",
    "server_app_id_uri = \"api://\" + tenant_id + \"/cloudkatana\"\n",
    "scope = server_app_id_uri + \"/user_impersonation\"\n",
    "\n",
    "app = PublicClientApplication(\n",
    "    public_client_app_id,\n",
    "    authority=\"https://login.microsoftonline.com/\" + tenant_id\n",
    ")\n",
    "result = app.acquire_token_interactive(scopes=[scope])\n",
    "bearer_token = result['access_token']"
   ]
  },
  {
   "cell_type": "markdown",
   "id": "6a3e22cf",
   "metadata": {},
   "source": [
    "### Set Azure Function Orchestrator"
   ]
  },
  {
   "cell_type": "code",
   "execution_count": null,
   "id": "2b9722f6",
   "metadata": {},
   "outputs": [],
   "source": [
    "endpoint = function_app_url + \"/api/orchestrators/Orchestrator\""
   ]
  },
  {
   "cell_type": "markdown",
   "id": "a7e2012e",
   "metadata": {},
   "source": [
    "### Prepare HTTP Body"
   ]
  },
  {
   "cell_type": "code",
   "execution_count": null,
   "id": "c9355492",
   "metadata": {},
   "outputs": [],
   "source": [
    "data = [{'activityFunction': 'Azure', 'type': 'action', 'action': 'Get-CKAzADUsers', 'parameters': {'userPrincipalName': 'ENTER-VALUE', 'selectFields': 'ENTER-VALUE', 'filter': 'ENTER-VALUE', 'pageSize': 'ENTER-VALUE'}}]"
   ]
  },
  {
   "cell_type": "markdown",
   "id": "fd03f7cd",
   "metadata": {},
   "source": [
    "### Send HTTP Request"
   ]
  },
  {
   "cell_type": "code",
   "execution_count": null,
   "id": "12c37b12",
   "metadata": {},
   "outputs": [],
   "source": [
    "http_headers = {'Authorization': 'Bearer ' + bearer_token, 'Accept': 'application/json','Content-Type': 'application/json'}\n",
    "results = requests.get(endpoint, json=data, headers=http_headers, stream=False).json()\n",
    "\n",
    "time.sleep(5)"
   ]
  },
  {
   "cell_type": "markdown",
   "id": "db6494a9",
   "metadata": {},
   "source": [
    "### Explore Output"
   ]
  },
  {
   "cell_type": "code",
   "execution_count": null,
   "id": "04209733",
   "metadata": {},
   "outputs": [],
   "source": [
    "query_status = requests.get(results['statusQueryGetUri'], headers=http_headers, stream=False).json()\n",
    "query_results = query_status['output']\n",
    "query_results"
   ]
  }
 ],
 "metadata": {},
 "nbformat": 4,
 "nbformat_minor": 5
}
