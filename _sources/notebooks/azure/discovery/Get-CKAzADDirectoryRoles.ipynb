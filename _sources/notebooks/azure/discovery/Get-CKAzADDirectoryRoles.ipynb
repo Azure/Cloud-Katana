{
 "cells": [
  {
   "cell_type": "markdown",
   "id": "4a26bbbd",
   "metadata": {},
   "source": [
    "# Get-CKAzADDirectoryRoles"
   ]
  },
  {
   "cell_type": "markdown",
   "id": "1c2827f1",
   "metadata": {},
   "source": [
    "## Metadata"
   ]
  },
  {
   "cell_type": "markdown",
   "id": "9000bf20",
   "metadata": {},
   "source": [
    "\n",
    "|                   |    |\n",
    "|:------------------|:---|\n",
    "| platform          | Azure |\n",
    "| contributors      | Roberto Rodriguez @Cyb3rWard0g,MSTIC R&D |\n",
    "| creation date     | 2021-08-22 |\n",
    "| modification date | 2021-09-08 |\n",
    "| Tactics           | [TA0007](https://attack.mitre.org/tactics/TA0007) |\n",
    "| Techniques        | [T1069.003](https://attack.mitre.org/techniques/T1069/003) |"
   ]
  },
  {
   "cell_type": "markdown",
   "id": "56602902",
   "metadata": {},
   "source": [
    "## Description\n",
    "A threat actor might want to list the directory roles that are activated in the tenant. This operation only returns roles that have been activated. A role becomes activated when an admin activates the role using the Activate directoryRole API. Not all built-in roles are initially activated.\n"
   ]
  },
  {
   "cell_type": "markdown",
   "id": "674c226a",
   "metadata": {},
   "source": [
    "## Run Simulation"
   ]
  },
  {
   "cell_type": "markdown",
   "id": "2ffab2b9",
   "metadata": {},
   "source": [
    "### Get OAuth Access Token"
   ]
  },
  {
   "cell_type": "code",
   "execution_count": null,
   "id": "e30ecd7c",
   "metadata": {},
   "outputs": [],
   "source": [
    "from msal import PublicClientApplication\n",
    "import requests\n",
    "import time\n",
    "\n",
    "function_app_url = \"https://FUNCTION_APP_NAME.azurewebsites.net\"\n",
    "\n",
    "tenant_id = \"TENANT_ID\"\n",
    "public_client_app_id = \"KATANA_CLIENT_APP_ID\"\n",
    "server_app_id_uri = \"api://\" + tenant_id + \"/cloudkatana\"\n",
    "scope = server_app_id_uri + \"/user_impersonation\"\n",
    "\n",
    "app = PublicClientApplication(\n",
    "    public_client_app_id,\n",
    "    authority=\"https://login.microsoftonline.com/\" + tenant_id\n",
    ")\n",
    "result = app.acquire_token_interactive(scopes=[scope])\n",
    "bearer_token = result['access_token']"
   ]
  },
  {
   "cell_type": "markdown",
   "id": "921c246a",
   "metadata": {},
   "source": [
    "### Set Azure Function Orchestrator"
   ]
  },
  {
   "cell_type": "code",
   "execution_count": null,
   "id": "ca203709",
   "metadata": {},
   "outputs": [],
   "source": [
    "endpoint = function_app_url + \"/api/orchestrators/Orchestrator\""
   ]
  },
  {
   "cell_type": "markdown",
   "id": "2699c3c5",
   "metadata": {},
   "source": [
    "### Prepare HTTP Body"
   ]
  },
  {
   "cell_type": "code",
   "execution_count": null,
   "id": "e2765098",
   "metadata": {},
   "outputs": [],
   "source": [
    "data = [{'activityFunction': 'Azure', 'type': 'action', 'action': 'Get-CKAzADDirectoryRoles', 'parameters': {}}]"
   ]
  },
  {
   "cell_type": "markdown",
   "id": "1f10be02",
   "metadata": {},
   "source": [
    "### Send HTTP Request"
   ]
  },
  {
   "cell_type": "code",
   "execution_count": null,
   "id": "15e732b2",
   "metadata": {},
   "outputs": [],
   "source": [
    "http_headers = {'Authorization': 'Bearer ' + bearer_token, 'Accept': 'application/json','Content-Type': 'application/json'}\n",
    "results = requests.get(endpoint, json=data, headers=http_headers, stream=False).json()\n",
    "\n",
    "time.sleep(5)"
   ]
  },
  {
   "cell_type": "markdown",
   "id": "f7f8609a",
   "metadata": {},
   "source": [
    "### Explore Output"
   ]
  },
  {
   "cell_type": "code",
   "execution_count": null,
   "id": "c018069a",
   "metadata": {},
   "outputs": [],
   "source": [
    "query_status = requests.get(results['statusQueryGetUri'], headers=http_headers, stream=False).json()\n",
    "query_results = query_status['output']\n",
    "query_results"
   ]
  }
 ],
 "metadata": {},
 "nbformat": 4,
 "nbformat_minor": 5
}
